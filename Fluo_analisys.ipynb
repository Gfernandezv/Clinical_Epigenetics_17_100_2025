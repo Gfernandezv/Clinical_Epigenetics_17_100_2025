{
  "nbformat": 4,
  "nbformat_minor": 0,
  "metadata": {
    "colab": {
      "provenance": [],
      "authorship_tag": "ABX9TyNheaDNL5VUddEBxJQ+z8gN",
      "include_colab_link": true
    },
    "kernelspec": {
      "name": "ir",
      "display_name": "R"
    },
    "language_info": {
      "name": "R"
    }
  },
  "cells": [
    {
      "cell_type": "markdown",
      "metadata": {
        "id": "view-in-github",
        "colab_type": "text"
      },
      "source": [
        "<a href=\"https://colab.research.google.com/github/Gfernandezv/Thesis/blob/main/Fluo_analisys.ipynb\" target=\"_parent\"><img src=\"https://colab.research.google.com/assets/colab-badge.svg\" alt=\"Open In Colab\"/></a>"
      ]
    },
    {
      "cell_type": "code",
      "execution_count": 13,
      "metadata": {
        "colab": {
          "base_uri": "https://localhost:8080/"
        },
        "id": "Scs3Hzv-xF06",
        "outputId": "9bf15796-a369-4af8-eb6d-cd9deb78cf79"
      },
      "outputs": [
        {
          "output_type": "stream",
          "name": "stderr",
          "text": [
            "Installing package into ‘/usr/local/lib/R/site-library’\n",
            "(as ‘lib’ is unspecified)\n",
            "\n"
          ]
        }
      ],
      "source": [
        "install.packages(\"remotes\")"
      ]
    },
    {
      "cell_type": "code",
      "source": [
        "library(rdrop2)"
      ],
      "metadata": {
        "id": "jFtQX3d4xfU4"
      },
      "execution_count": 3,
      "outputs": []
    },
    {
      "cell_type": "code",
      "source": [
        "install.packages(\"httpuv\")"
      ],
      "metadata": {
        "colab": {
          "base_uri": "https://localhost:8080/"
        },
        "id": "0Yo2-8_dxktP",
        "outputId": "2f5a1368-53c3-47c4-e931-6f78143b8a43"
      },
      "execution_count": 11,
      "outputs": [
        {
          "output_type": "stream",
          "name": "stderr",
          "text": [
            "Installing package into ‘/usr/local/lib/R/site-library’\n",
            "(as ‘lib’ is unspecified)\n",
            "\n",
            "also installing the dependencies ‘later’, ‘promises’, ‘Rcpp’\n",
            "\n",
            "\n"
          ]
        }
      ]
    },
    {
      "cell_type": "code",
      "source": [
        "library(httr)"
      ],
      "metadata": {
        "id": "YN0vrYIryA4A"
      },
      "execution_count": 7,
      "outputs": []
    },
    {
      "cell_type": "code",
      "source": [
        "drop_auth()"
      ],
      "metadata": {
        "colab": {
          "base_uri": "https://localhost:8080/"
        },
        "id": "2SbfXjDDyDmr",
        "outputId": "fb6d5318-3b0e-462f-d783-916194d6a855"
      },
      "execution_count": 12,
      "outputs": [
        {
          "output_type": "stream",
          "name": "stderr",
          "text": [
            "Waiting for authentication in browser...\n",
            "\n",
            "Press Esc/Ctrl + C to abort\n",
            "\n",
            "Please point your browser to the following url: \n",
            "\n",
            "https://www.dropbox.com/oauth2/authorize?client_id=mmhfsybffdom42w&redirect_uri=http%3A%2F%2Flocalhost%3A1410%2F&response_type=code&state=tYh82VUicc\n",
            "\n"
          ]
        }
      ]
    }
  ]
}